{
 "cells": [
  {
   "cell_type": "code",
   "execution_count": 148,
   "metadata": {},
   "outputs": [],
   "source": [
    "import numpy as np\n",
    "import pandas as pd\n",
    "import matplotlib.pyplot as plt\n",
    "import seaborn as sns"
   ]
  },
  {
   "cell_type": "markdown",
   "metadata": {},
   "source": [
    "# Importing the Data"
   ]
  },
  {
   "cell_type": "code",
   "execution_count": 149,
   "metadata": {},
   "outputs": [],
   "source": [
    "movie_links_data = pd.read_csv(\"Data/links.csv\")\n",
    "movies_data = pd.read_csv(\"Data/movies.csv\")\n",
    "movie_rating_data = pd.read_csv(\"Data/ratings.csv\")\n",
    "movie_tags_data = pd.read_csv(\"Data/tags.csv\")"
   ]
  },
  {
   "cell_type": "code",
   "execution_count": 150,
   "metadata": {},
   "outputs": [],
   "source": [
    "all_data = [movie_links_data, movies_data, movie_rating_data, movie_tags_data]"
   ]
  },
  {
   "cell_type": "code",
   "execution_count": 151,
   "metadata": {},
   "outputs": [
    {
     "name": "stdout",
     "output_type": "stream",
     "text": [
      "   movieId  imdbId   tmdbId\n",
      "0        1  114709    862.0\n",
      "1        2  113497   8844.0\n",
      "2        3  113228  15602.0\n",
      "3        4  114885  31357.0\n",
      "4        5  113041  11862.0\n",
      "Movies Link----------------------------------------------------------------------------------------------------\n",
      "   userId  movieId  rating  timestamp\n",
      "0       1        1     4.0  964982703\n",
      "1       1        3     4.0  964981247\n",
      "2       1        6     4.0  964982224\n",
      "3       1       47     5.0  964983815\n",
      "4       1       50     5.0  964982931\n",
      "Movies Rating----------------------------------------------------------------------------------------------------\n",
      "   movieId                               title  \\\n",
      "0        1                    Toy Story (1995)   \n",
      "1        2                      Jumanji (1995)   \n",
      "2        3             Grumpier Old Men (1995)   \n",
      "3        4            Waiting to Exhale (1995)   \n",
      "4        5  Father of the Bride Part II (1995)   \n",
      "\n",
      "                                        genres  \n",
      "0  Adventure|Animation|Children|Comedy|Fantasy  \n",
      "1                   Adventure|Children|Fantasy  \n",
      "2                               Comedy|Romance  \n",
      "3                         Comedy|Drama|Romance  \n",
      "4                                       Comedy  \n",
      "Movies----------------------------------------------------------------------------------------------------\n",
      "   userId  movieId              tag   timestamp\n",
      "0       2    60756            funny  1445714994\n",
      "1       2    60756  Highly quotable  1445714996\n",
      "2       2    60756     will ferrell  1445714992\n",
      "3       2    89774     Boxing story  1445715207\n",
      "4       2    89774              MMA  1445715200\n",
      "Movies Tags----------------------------------------------------------------------------------------------------\n"
     ]
    }
   ],
   "source": [
    "print(movie_links_data.head())\n",
    "print(\"Movies Link\"+\"-\"*100)\n",
    "print(movie_rating_data.head())\n",
    "print(\"Movies Rating\"+\"-\"*100)\n",
    "print(movies_data.head())\n",
    "print(\"Movies\"+\"-\"*100)\n",
    "print(movie_tags_data.head())\n",
    "print(\"Movies Tags\"+\"-\"*100)"
   ]
  },
  {
   "cell_type": "code",
   "execution_count": 175,
   "metadata": {},
   "outputs": [
    {
     "name": "stdout",
     "output_type": "stream",
     "text": [
      "-------------------------------------------------- Movies Link--------------------------------------------------\n",
      "<class 'pandas.core.frame.DataFrame'>\n",
      "RangeIndex: 9742 entries, 0 to 9741\n",
      "Data columns (total 3 columns):\n",
      " #   Column   Non-Null Count  Dtype  \n",
      "---  ------   --------------  -----  \n",
      " 0   movieId  9742 non-null   int64  \n",
      " 1   imdbId   9742 non-null   int64  \n",
      " 2   tmdbId   9734 non-null   float64\n",
      "dtypes: float64(1), int64(2)\n",
      "memory usage: 228.5 KB\n",
      "None\n",
      "-------------------------------------------------- Movies Rating--------------------------------------------------\n",
      "<class 'pandas.core.frame.DataFrame'>\n",
      "RangeIndex: 100836 entries, 0 to 100835\n",
      "Data columns (total 4 columns):\n",
      " #   Column     Non-Null Count   Dtype  \n",
      "---  ------     --------------   -----  \n",
      " 0   userId     100836 non-null  int64  \n",
      " 1   movieId    100836 non-null  int64  \n",
      " 2   rating     100836 non-null  float64\n",
      " 3   timestamp  100836 non-null  int64  \n",
      "dtypes: float64(1), int64(3)\n",
      "memory usage: 3.1 MB\n",
      "None\n",
      "-------------------------------------------------- Movies--------------------------------------------------\n",
      "<class 'pandas.core.frame.DataFrame'>\n",
      "RangeIndex: 9742 entries, 0 to 9741\n",
      "Data columns (total 3 columns):\n",
      " #   Column   Non-Null Count  Dtype \n",
      "---  ------   --------------  ----- \n",
      " 0   movieId  9742 non-null   int64 \n",
      " 1   title    9742 non-null   object\n",
      " 2   genres   9742 non-null   object\n",
      "dtypes: int64(1), object(2)\n",
      "memory usage: 228.5+ KB\n",
      "None\n",
      "-------------------------------------------------- Movies Tags--------------------------------------------------\n",
      "<class 'pandas.core.frame.DataFrame'>\n",
      "RangeIndex: 3683 entries, 0 to 3682\n",
      "Data columns (total 4 columns):\n",
      " #   Column     Non-Null Count  Dtype \n",
      "---  ------     --------------  ----- \n",
      " 0   userId     3683 non-null   int64 \n",
      " 1   movieId    3683 non-null   int64 \n",
      " 2   tag        3683 non-null   object\n",
      " 3   timestamp  3683 non-null   int64 \n",
      "dtypes: int64(3), object(1)\n",
      "memory usage: 115.2+ KB\n",
      "None\n"
     ]
    }
   ],
   "source": [
    "print(\"-\"*50,\"Movies Link\"+\"-\"*50)\n",
    "print(movie_links_data.info())\n",
    "print(\"-\"*50,\"Movies Rating\"+\"-\"*50)\n",
    "print(movie_rating_data.info())\n",
    "print(\"-\"*50,\"Movies\"+\"-\"*50)\n",
    "print(movies_data.info())\n",
    "print(\"-\"*50,\"Movies Tags\"+\"-\"*50)\n",
    "print(movie_tags_data.info())"
   ]
  },
  {
   "cell_type": "markdown",
   "metadata": {},
   "source": [
    "# Data Analysis"
   ]
  },
  {
   "cell_type": "code",
   "execution_count": 153,
   "metadata": {},
   "outputs": [
    {
     "name": "stdout",
     "output_type": "stream",
     "text": [
      "--------------------------------------------------Shape of Movies Link Dataset--------------------------------------------------\n",
      "(9742, 3)\n",
      "--------------------------------------------------Shape of Movies Rating Dataset--------------------------------------------------\n",
      "(100836, 4)\n",
      "--------------------------------------------------Shape of Movies Dataset--------------------------------------------------\n",
      "(9742, 3)\n",
      "--------------------------------------------------Shape of Movies Tags Dataset--------------------------------------------------\n",
      "(3683, 4)\n"
     ]
    }
   ],
   "source": [
    "# Shapes\n",
    "print(\"-\"*50+\"Shape of Movies Link Dataset\"+\"-\"*50)\n",
    "print(movie_links_data.shape)\n",
    "print(\"-\"*50+\"Shape of Movies Rating Dataset\"+\"-\"*50)\n",
    "print(movie_rating_data.shape)\n",
    "print(\"-\"*50+\"Shape of Movies Dataset\"+\"-\"*50)\n",
    "print(movies_data.shape)\n",
    "print(\"-\"*50+\"Shape of Movies Tags Dataset\"+\"-\"*50)\n",
    "print(movie_tags_data.shape)\n"
   ]
  },
  {
   "cell_type": "code",
   "execution_count": 154,
   "metadata": {},
   "outputs": [
    {
     "name": "stdout",
     "output_type": "stream",
     "text": [
      "Uniques userId in ratings.csv --  610\n"
     ]
    }
   ],
   "source": [
    "# Uniques in ratings.csv\n",
    "print(\"Uniques userId in ratings.csv -- \", movie_rating_data['userId'].nunique())"
   ]
  },
  {
   "cell_type": "code",
   "execution_count": 155,
   "metadata": {},
   "outputs": [
    {
     "name": "stdout",
     "output_type": "stream",
     "text": [
      "   movieId                               title  \\\n",
      "0        1                    Toy Story (1995)   \n",
      "1        2                      Jumanji (1995)   \n",
      "2        3             Grumpier Old Men (1995)   \n",
      "3        4            Waiting to Exhale (1995)   \n",
      "4        5  Father of the Bride Part II (1995)   \n",
      "\n",
      "                                        genres  \n",
      "0  Adventure|Animation|Children|Comedy|Fantasy  \n",
      "1                   Adventure|Children|Fantasy  \n",
      "2                               Comedy|Romance  \n",
      "3                         Comedy|Drama|Romance  \n",
      "4                                       Comedy  \n"
     ]
    }
   ],
   "source": [
    "print(movies_data.head())"
   ]
  },
  {
   "cell_type": "code",
   "execution_count": 156,
   "metadata": {},
   "outputs": [
    {
     "name": "stdout",
     "output_type": "stream",
     "text": [
      "   userId  movieId  rating  timestamp\n",
      "0       1        1     4.0  964982703\n",
      "1       1        3     4.0  964981247\n",
      "2       1        6     4.0  964982224\n",
      "3       1       47     5.0  964983815\n",
      "4       1       50     5.0  964982931\n"
     ]
    }
   ],
   "source": [
    "print(movie_rating_data.head())"
   ]
  },
  {
   "cell_type": "markdown",
   "metadata": {},
   "source": [
    "### Movie has recieved maximum number of user ratings"
   ]
  },
  {
   "cell_type": "code",
   "execution_count": 157,
   "metadata": {},
   "outputs": [
    {
     "name": "stdout",
     "output_type": "stream",
     "text": [
      "--------------------------------------------------Merged DataSet--------------------------------------------------\n",
      "Index(['movieId', 'title', 'genres', 'userId', 'rating', 'timestamp'], dtype='object')\n"
     ]
    }
   ],
   "source": [
    "# Merging movies.csv and ratings.csv dataset\n",
    "merged_movie_rating = pd.merge(movies_data, movie_rating_data, on=\"movieId\", how='inner')\n",
    "print(\"-\"*50+\"Merged DataSet\"+\"-\"*50)\n",
    "print(merged_movie_rating.columns)"
   ]
  },
  {
   "cell_type": "code",
   "execution_count": 158,
   "metadata": {},
   "outputs": [],
   "source": [
    "check_movie = [\"Matrix\",\n",
    "    \"Pulp Fiction\",\n",
    "    \"Forrest Gump\",\n",
    "    \"Shawshank Redemption\",\n",
    "    ]\n",
    "max_number_rating = []"
   ]
  },
  {
   "cell_type": "code",
   "execution_count": 159,
   "metadata": {},
   "outputs": [
    {
     "name": "stdout",
     "output_type": "stream",
     "text": [
      "-------------------------------------------------- Matrix --------------------------------------------------\n",
      "453\n",
      "-------------------------------------------------- Pulp Fiction --------------------------------------------------\n",
      "307\n",
      "-------------------------------------------------- Forrest Gump --------------------------------------------------\n",
      "329\n",
      "-------------------------------------------------- Shawshank Redemption --------------------------------------------------\n",
      "317\n"
     ]
    }
   ],
   "source": [
    "for i in check_movie:\n",
    "    number_movie = merged_movie_rating['title'].apply(lambda x: i in x)\n",
    "    movie_rate_df = merged_movie_rating[number_movie==True]\n",
    "    movie_rate_df = movie_rate_df[movie_rate_df['rating']!=np.nan].shape[0]\n",
    "    print(\"-\"*50 , f\"{i}\" , \"-\"*50)\n",
    "    print(movie_rate_df)\n",
    "    max_number_rating.append(movie_rate_df)\n",
    "    "
   ]
  },
  {
   "cell_type": "code",
   "execution_count": 160,
   "metadata": {},
   "outputs": [
    {
     "name": "stdout",
     "output_type": "stream",
     "text": [
      "-------------------------------------------------- Maximum Number of Rated Movie --------------------------------------------------\n",
      "Matrix\n"
     ]
    }
   ],
   "source": [
    "max_number_index = max_number_rating.index(max(max_number_rating))\n",
    "print(\"-\"*50 , \"Maximum Number of Rated Movie\" , \"-\"*50)\n",
    "print(f\"{check_movie[max_number_index]}\")"
   ]
  },
  {
   "cell_type": "markdown",
   "metadata": {},
   "source": [
    "### Select all the correct tags submitted by users to \"Matrix, The (1999)\" movie"
   ]
  },
  {
   "cell_type": "code",
   "execution_count": 161,
   "metadata": {},
   "outputs": [],
   "source": [
    "movie_tag = \"Matrix, The (1999)\""
   ]
  },
  {
   "cell_type": "code",
   "execution_count": 162,
   "metadata": {},
   "outputs": [
    {
     "name": "stdout",
     "output_type": "stream",
     "text": [
      "-------------------------------------------------- movies.csv --------------------------------------------------\n",
      "Index(['movieId', 'title', 'genres'], dtype='object')\n",
      "-------------------------------------------------- tags.csv --------------------------------------------------\n",
      "Index(['userId', 'movieId', 'tag', 'timestamp'], dtype='object')\n"
     ]
    }
   ],
   "source": [
    "# Finding Primary Key\n",
    "print(\"-\"*50 , \"movies.csv\" , \"-\"*50)\n",
    "print(movies_data.columns)\n",
    "print(\"-\"*50 , \"tags.csv\" , \"-\"*50)\n",
    "print(movie_tags_data.columns)"
   ]
  },
  {
   "cell_type": "code",
   "execution_count": 163,
   "metadata": {},
   "outputs": [],
   "source": [
    "# Merge movies.csv and tags.csv DataSet\n",
    "merged_data_tags = pd.merge(movies_data, movie_tags_data, on=\"movieId\", how='inner')"
   ]
  },
  {
   "cell_type": "code",
   "execution_count": 164,
   "metadata": {},
   "outputs": [
    {
     "name": "stdout",
     "output_type": "stream",
     "text": [
      "-------------------------------------------------- Tags of Matrix, The (1999) --------------------------------------------------\n",
      "['martial arts' 'sci-fi' 'alternate universe' 'philosophy'\n",
      " 'post apocalyptic']\n"
     ]
    }
   ],
   "source": [
    "tags_of_movie = merged_data_tags[merged_data_tags[\"title\"] == movie_tag].tag.values\n",
    "print(\"-\"*50 , \"Tags of Matrix, The (1999)\" , \"-\"*50)\n",
    "print(tags_of_movie)"
   ]
  },
  {
   "cell_type": "markdown",
   "metadata": {},
   "source": [
    "### Average user rating for movie named \"Terminator 2: Judgment Day (1991)\""
   ]
  },
  {
   "cell_type": "code",
   "execution_count": 165,
   "metadata": {},
   "outputs": [],
   "source": [
    "avg_rating_movie = \"Terminator 2: Judgment Day (1991)\""
   ]
  },
  {
   "cell_type": "code",
   "execution_count": 166,
   "metadata": {},
   "outputs": [
    {
     "name": "stdout",
     "output_type": "stream",
     "text": [
      "--------------------------------------- Average Rating of Terminator 2: Judgment Day (1991) ---------------------------------------\n",
      "3.970982142857143\n"
     ]
    }
   ],
   "source": [
    "avg_rating = np.mean(merged_movie_rating[merged_movie_rating['title'] == avg_rating_movie].rating)\n",
    "print(\"-\"*39 , \"Average Rating of Terminator 2: Judgment Day (1991)\" , \"-\"*39)\n",
    "print(avg_rating)"
   ]
  },
  {
   "cell_type": "markdown",
   "metadata": {},
   "source": [
    "### Data distribution of user ratings for \"Fight Club (1999)\" Movie"
   ]
  },
  {
   "cell_type": "code",
   "execution_count": 167,
   "metadata": {},
   "outputs": [],
   "source": [
    "rating_dist_movie = \"Fight Club (1999)\""
   ]
  },
  {
   "cell_type": "code",
   "execution_count": 168,
   "metadata": {},
   "outputs": [
    {
     "name": "stdout",
     "output_type": "stream",
     "text": [
      "-------------------------------------------------- Rating of Fight Club (1999) --------------------------------------------------\n",
      "[5.  2.  0.5 2.5 3.5 4.5 4.5 5.  2.  3.5 3.5 4.  4.  3.  5.  2.  3.  4.5\n",
      " 5.  5.  4.5 4.5 5.  4.5 2.5 4.5 5.  3.5 4.5 5.  5.  5.  4.5 5.  5.  4.5\n",
      " 5.  4.  4.  5.  3.  5.  4.  5.  0.5 4.  5.  3.  4.5 4.5 4.  4.5 4.5 5.\n",
      " 3.  4.  4.  3.  5.  5.  5.  5.  4.5 5.  4.5 4.5 4.5 1.5 5.  3.5 4.  5.\n",
      " 3.  4.5 4.  5.  3.  4.  5.  5.  5.  5.  5.  4.  5.  5.  5.  3.5 4.5 5.\n",
      " 4.  3.5 3.  2.  4.5 5.  5.  4.5 4.5 4.  0.5 5.  5.  4.  4.  4.  5.  4.\n",
      " 4.  4.5 3.5 4.5 4.5 4.  4.  5.  3.5 5.  4.  5.  4.5 5.  4.5 4.5 4.5 4.5\n",
      " 4.5 3.5 4.  5.  5.  4.  4.5 5.  4.  5.  3.  5.  4.  5.  5.  5.  5.  4.\n",
      " 5.  5.  5.  4.  4.  4.5 4.5 4.  3.5 4.  5.  5.  3.5 4.5 4.  5.  4.  4.5\n",
      " 5.  5.  4.5 3.5 5.  4.  4.  4.  4.  4.5 4.5 5.  4.  4.5 3.5 5.  4.  3.5\n",
      " 5.  5.  2.5 5.  4.  4.5 3.5 4.  5.  5.  4.5 5.  5.  5.  4.5 4.5 5.  4.\n",
      " 4.5 4.  4.5 4.  5.  5.  4.5 4.  5.  3.5 2.  4.  4.  5.  4.5 5.  4.  5.\n",
      " 5.  5. ]\n"
     ]
    }
   ],
   "source": [
    "movie_ratings = merged_movie_rating[merged_movie_rating['title'] == rating_dist_movie].rating.values\n",
    "print(\"-\"*50 , f\"Rating of {rating_dist_movie}\" , \"-\"*50)\n",
    "print(movie_ratings)"
   ]
  },
  {
   "cell_type": "code",
   "execution_count": 169,
   "metadata": {},
   "outputs": [
    {
     "data": {
      "image/png": "[encoded data removed]",
      "text/plain": [
       "<Figure size 640x480 with 1 Axes>"
      ]
     },
     "metadata": {},
     "output_type": "display_data"
    }
   ],
   "source": [
    "# Plotting Dsitribution of the User Rating\n",
    "sns.histplot(movie_ratings, kde=True, bins=10, color='skyblue')\n",
    "plt.xlabel('Values')\n",
    "plt.ylabel('Frequency')\n",
    "plt.title('Distribution Plot')\n",
    "plt.show()"
   ]
  },
  {
   "cell_type": "markdown",
   "metadata": {},
   "source": [
    "### Mandatory Operations:\n",
    "1. Group the user ratings based on movieId and apply aggregation operations like count and mean on ratings. \n",
    "2. Apply inner join on dataframe created from movies.csv and the grouped df from step 1.\n",
    "3. Filter only those movies which have more than 50 user ratings (i.e. > 50).\n",
    "\n",
    "Above steps will make sure that your data contains only those movies which has recieved more than 50 user ratings"
   ]
  },
  {
   "cell_type": "code",
   "execution_count": 170,
   "metadata": {},
   "outputs": [
    {
     "data": {
      "text/html": [
       "<div>\n",
       "<style scoped>\n",
       "    .dataframe tbody tr th:only-of-type {\n",
       "        vertical-align: middle;\n",
       "    }\n",
       "\n",
       "    .dataframe tbody tr th {\n",
       "        vertical-align: top;\n",
       "    }\n",
       "\n",
       "    .dataframe thead th {\n",
       "        text-align: right;\n",
       "    }\n",
       "</style>\n",
       "<table border=\"1\" class=\"dataframe\">\n",
       "  <thead>\n",
       "    <tr style=\"text-align: right;\">\n",
       "      <th></th>\n",
       "      <th>movieId</th>\n",
       "      <th>title</th>\n",
       "      <th>genres</th>\n",
       "      <th>userId</th>\n",
       "      <th>rating</th>\n",
       "      <th>timestamp</th>\n",
       "    </tr>\n",
       "  </thead>\n",
       "  <tbody>\n",
       "    <tr>\n",
       "      <th>0</th>\n",
       "      <td>1</td>\n",
       "      <td>Toy Story (1995)</td>\n",
       "      <td>Adventure|Animation|Children|Comedy|Fantasy</td>\n",
       "      <td>1</td>\n",
       "      <td>4.0</td>\n",
       "      <td>964982703</td>\n",
       "    </tr>\n",
       "    <tr>\n",
       "      <th>1</th>\n",
       "      <td>1</td>\n",
       "      <td>Toy Story (1995)</td>\n",
       "      <td>Adventure|Animation|Children|Comedy|Fantasy</td>\n",
       "      <td>5</td>\n",
       "      <td>4.0</td>\n",
       "      <td>847434962</td>\n",
       "    </tr>\n",
       "    <tr>\n",
       "      <th>2</th>\n",
       "      <td>1</td>\n",
       "      <td>Toy Story (1995)</td>\n",
       "      <td>Adventure|Animation|Children|Comedy|Fantasy</td>\n",
       "      <td>7</td>\n",
       "      <td>4.5</td>\n",
       "      <td>1106635946</td>\n",
       "    </tr>\n",
       "    <tr>\n",
       "      <th>3</th>\n",
       "      <td>1</td>\n",
       "      <td>Toy Story (1995)</td>\n",
       "      <td>Adventure|Animation|Children|Comedy|Fantasy</td>\n",
       "      <td>15</td>\n",
       "      <td>2.5</td>\n",
       "      <td>1510577970</td>\n",
       "    </tr>\n",
       "    <tr>\n",
       "      <th>4</th>\n",
       "      <td>1</td>\n",
       "      <td>Toy Story (1995)</td>\n",
       "      <td>Adventure|Animation|Children|Comedy|Fantasy</td>\n",
       "      <td>17</td>\n",
       "      <td>4.5</td>\n",
       "      <td>1305696483</td>\n",
       "    </tr>\n",
       "  </tbody>\n",
       "</table>\n",
       "</div>"
      ],
      "text/plain": [
       "   movieId             title                                       genres  \\\n",
       "0        1  Toy Story (1995)  Adventure|Animation|Children|Comedy|Fantasy   \n",
       "1        1  Toy Story (1995)  Adventure|Animation|Children|Comedy|Fantasy   \n",
       "2        1  Toy Story (1995)  Adventure|Animation|Children|Comedy|Fantasy   \n",
       "3        1  Toy Story (1995)  Adventure|Animation|Children|Comedy|Fantasy   \n",
       "4        1  Toy Story (1995)  Adventure|Animation|Children|Comedy|Fantasy   \n",
       "\n",
       "   userId  rating   timestamp  \n",
       "0       1     4.0   964982703  \n",
       "1       5     4.0   847434962  \n",
       "2       7     4.5  1106635946  \n",
       "3      15     2.5  1510577970  \n",
       "4      17     4.5  1305696483  "
      ]
     },
     "execution_count": 170,
     "metadata": {},
     "output_type": "execute_result"
    }
   ],
   "source": [
    "merged_movie_rating.head()"
   ]
  },
  {
   "cell_type": "code",
   "execution_count": 171,
   "metadata": {},
   "outputs": [],
   "source": [
    "unique_movies = merged_movie_rating['title'].unique()"
   ]
  },
  {
   "cell_type": "code",
   "execution_count": 207,
   "metadata": {},
   "outputs": [
    {
     "data": {
      "text/plain": [
       "9719"
      ]
     },
     "execution_count": 207,
     "metadata": {},
     "output_type": "execute_result"
    }
   ],
   "source": [
    "len(unique_movies)"
   ]
  },
  {
   "cell_type": "code",
   "execution_count": 184,
   "metadata": {},
   "outputs": [
    {
     "data": {
      "text/html": [
       "<div>\n",
       "<style scoped>\n",
       "    .dataframe tbody tr th:only-of-type {\n",
       "        vertical-align: middle;\n",
       "    }\n",
       "\n",
       "    .dataframe tbody tr th {\n",
       "        vertical-align: top;\n",
       "    }\n",
       "\n",
       "    .dataframe thead th {\n",
       "        text-align: right;\n",
       "    }\n",
       "</style>\n",
       "<table border=\"1\" class=\"dataframe\">\n",
       "  <thead>\n",
       "    <tr style=\"text-align: right;\">\n",
       "      <th></th>\n",
       "      <th>movieId</th>\n",
       "      <th>title</th>\n",
       "      <th>genres</th>\n",
       "      <th>userId</th>\n",
       "      <th>rating</th>\n",
       "      <th>timestamp</th>\n",
       "    </tr>\n",
       "  </thead>\n",
       "  <tbody>\n",
       "    <tr>\n",
       "      <th>0</th>\n",
       "      <td>1</td>\n",
       "      <td>Toy Story (1995)</td>\n",
       "      <td>Adventure|Animation|Children|Comedy|Fantasy</td>\n",
       "      <td>1</td>\n",
       "      <td>4.0</td>\n",
       "      <td>964982703</td>\n",
       "    </tr>\n",
       "    <tr>\n",
       "      <th>1</th>\n",
       "      <td>1</td>\n",
       "      <td>Toy Story (1995)</td>\n",
       "      <td>Adventure|Animation|Children|Comedy|Fantasy</td>\n",
       "      <td>5</td>\n",
       "      <td>4.0</td>\n",
       "      <td>847434962</td>\n",
       "    </tr>\n",
       "    <tr>\n",
       "      <th>2</th>\n",
       "      <td>1</td>\n",
       "      <td>Toy Story (1995)</td>\n",
       "      <td>Adventure|Animation|Children|Comedy|Fantasy</td>\n",
       "      <td>7</td>\n",
       "      <td>4.5</td>\n",
       "      <td>1106635946</td>\n",
       "    </tr>\n",
       "    <tr>\n",
       "      <th>3</th>\n",
       "      <td>1</td>\n",
       "      <td>Toy Story (1995)</td>\n",
       "      <td>Adventure|Animation|Children|Comedy|Fantasy</td>\n",
       "      <td>15</td>\n",
       "      <td>2.5</td>\n",
       "      <td>1510577970</td>\n",
       "    </tr>\n",
       "    <tr>\n",
       "      <th>4</th>\n",
       "      <td>1</td>\n",
       "      <td>Toy Story (1995)</td>\n",
       "      <td>Adventure|Animation|Children|Comedy|Fantasy</td>\n",
       "      <td>17</td>\n",
       "      <td>4.5</td>\n",
       "      <td>1305696483</td>\n",
       "    </tr>\n",
       "    <tr>\n",
       "      <th>...</th>\n",
       "      <td>...</td>\n",
       "      <td>...</td>\n",
       "      <td>...</td>\n",
       "      <td>...</td>\n",
       "      <td>...</td>\n",
       "      <td>...</td>\n",
       "    </tr>\n",
       "    <tr>\n",
       "      <th>210</th>\n",
       "      <td>1</td>\n",
       "      <td>Toy Story (1995)</td>\n",
       "      <td>Adventure|Animation|Children|Comedy|Fantasy</td>\n",
       "      <td>606</td>\n",
       "      <td>2.5</td>\n",
       "      <td>1349082950</td>\n",
       "    </tr>\n",
       "    <tr>\n",
       "      <th>211</th>\n",
       "      <td>1</td>\n",
       "      <td>Toy Story (1995)</td>\n",
       "      <td>Adventure|Animation|Children|Comedy|Fantasy</td>\n",
       "      <td>607</td>\n",
       "      <td>4.0</td>\n",
       "      <td>964744033</td>\n",
       "    </tr>\n",
       "    <tr>\n",
       "      <th>212</th>\n",
       "      <td>1</td>\n",
       "      <td>Toy Story (1995)</td>\n",
       "      <td>Adventure|Animation|Children|Comedy|Fantasy</td>\n",
       "      <td>608</td>\n",
       "      <td>2.5</td>\n",
       "      <td>1117408267</td>\n",
       "    </tr>\n",
       "    <tr>\n",
       "      <th>213</th>\n",
       "      <td>1</td>\n",
       "      <td>Toy Story (1995)</td>\n",
       "      <td>Adventure|Animation|Children|Comedy|Fantasy</td>\n",
       "      <td>609</td>\n",
       "      <td>3.0</td>\n",
       "      <td>847221025</td>\n",
       "    </tr>\n",
       "    <tr>\n",
       "      <th>214</th>\n",
       "      <td>1</td>\n",
       "      <td>Toy Story (1995)</td>\n",
       "      <td>Adventure|Animation|Children|Comedy|Fantasy</td>\n",
       "      <td>610</td>\n",
       "      <td>5.0</td>\n",
       "      <td>1479542900</td>\n",
       "    </tr>\n",
       "  </tbody>\n",
       "</table>\n",
       "<p>215 rows × 6 columns</p>\n",
       "</div>"
      ],
      "text/plain": [
       "     movieId             title                                       genres  \\\n",
       "0          1  Toy Story (1995)  Adventure|Animation|Children|Comedy|Fantasy   \n",
       "1          1  Toy Story (1995)  Adventure|Animation|Children|Comedy|Fantasy   \n",
       "2          1  Toy Story (1995)  Adventure|Animation|Children|Comedy|Fantasy   \n",
       "3          1  Toy Story (1995)  Adventure|Animation|Children|Comedy|Fantasy   \n",
       "4          1  Toy Story (1995)  Adventure|Animation|Children|Comedy|Fantasy   \n",
       "..       ...               ...                                          ...   \n",
       "210        1  Toy Story (1995)  Adventure|Animation|Children|Comedy|Fantasy   \n",
       "211        1  Toy Story (1995)  Adventure|Animation|Children|Comedy|Fantasy   \n",
       "212        1  Toy Story (1995)  Adventure|Animation|Children|Comedy|Fantasy   \n",
       "213        1  Toy Story (1995)  Adventure|Animation|Children|Comedy|Fantasy   \n",
       "214        1  Toy Story (1995)  Adventure|Animation|Children|Comedy|Fantasy   \n",
       "\n",
       "     userId  rating   timestamp  \n",
       "0         1     4.0   964982703  \n",
       "1         5     4.0   847434962  \n",
       "2         7     4.5  1106635946  \n",
       "3        15     2.5  1510577970  \n",
       "4        17     4.5  1305696483  \n",
       "..      ...     ...         ...  \n",
       "210     606     2.5  1349082950  \n",
       "211     607     4.0   964744033  \n",
       "212     608     2.5  1117408267  \n",
       "213     609     3.0   847221025  \n",
       "214     610     5.0  1479542900  \n",
       "\n",
       "[215 rows x 6 columns]"
      ]
     },
     "execution_count": 184,
     "metadata": {},
     "output_type": "execute_result"
    }
   ],
   "source": [
    "merged_movie_rating[merged_movie_rating['title'] == unique_movies[0]]"
   ]
  },
  {
   "cell_type": "code",
   "execution_count": 212,
   "metadata": {},
   "outputs": [],
   "source": [
    "def check_number_rating(new_df, unique_movies, merged_movie_rating):\n",
    "    for movie in unique_movies:\n",
    "        if merged_movie_rating[merged_movie_rating['title'] == movie].shape[0] > 50:\n",
    "            old_df = merged_movie_rating[merged_movie_rating['title'] == movie]\n",
    "            new_df = pd.concat([old_df, new_df], ignore_index=True)\n",
    "        else:\n",
    "            pass\n",
    "    return new_df"
   ]
  },
  {
   "cell_type": "code",
   "execution_count": 213,
   "metadata": {},
   "outputs": [],
   "source": [
    "new_movie_data = pd.DataFrame()"
   ]
  },
  {
   "cell_type": "code",
   "execution_count": 214,
   "metadata": {},
   "outputs": [],
   "source": [
    "new_movie_data = check_number_rating(new_movie_data, unique_movies, merged_movie_rating)"
   ]
  },
  {
   "cell_type": "code",
   "execution_count": 215,
   "metadata": {},
   "outputs": [
    {
     "data": {
      "text/plain": [
       "title\n",
       "Forrest Gump (1994)                 329\n",
       "Shawshank Redemption, The (1994)    317\n",
       "Pulp Fiction (1994)                 307\n",
       "Silence of the Lambs, The (1991)    279\n",
       "Matrix, The (1999)                  278\n",
       "                                   ... \n",
       "Bad Boys (1995)                      51\n",
       "Splash (1984)                        51\n",
       "Mulholland Drive (2001)              51\n",
       "The Devil's Advocate (1997)          51\n",
       "Army of Darkness (1993)              51\n",
       "Name: count, Length: 437, dtype: int64"
      ]
     },
     "execution_count": 215,
     "metadata": {},
     "output_type": "execute_result"
    }
   ],
   "source": [
    "# Conformation\n",
    "new_movie_data['title'].value_counts()"
   ]
  },
  {
   "cell_type": "code",
   "execution_count": null,
   "metadata": {},
   "outputs": [],
   "source": []
  }
 ],
 "metadata": {
  "kernelspec": {
   "display_name": "Python 3",
   "language": "python",
   "name": "python3"
  },
  "language_info": {
   "codemirror_mode": {
    "name": "ipython",
    "version": 3
   },
   "file_extension": ".py",
   "mimetype": "text/x-python",
   "name": "python",
   "nbconvert_exporter": "python",
   "pygments_lexer": "ipython3",
   "version": "3.10.4"
  }
 },
 "nbformat": 4,
 "nbformat_minor": 2
}
