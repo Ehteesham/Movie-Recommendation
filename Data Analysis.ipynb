{
 "cells": [
  {
   "cell_type": "code",
   "execution_count": 2,
   "metadata": {},
   "outputs": [],
   "source": [
    "import numpy as np\n",
    "import pandas as pd"
   ]
  },
  {
   "cell_type": "markdown",
   "metadata": {},
   "source": [
    "# Importing the Data"
   ]
  },
  {
   "cell_type": "code",
   "execution_count": 3,
   "metadata": {},
   "outputs": [],
   "source": [
    "movie_links_data = pd.read_csv(\"Data/links.csv\")\n",
    "movies_data = pd.read_csv(\"Data/movies.csv\")\n",
    "movie_rating_data = pd.read_csv(\"Data/ratings.csv\")\n",
    "movie_tags_data = pd.read_csv(\"Data/tags.csv\")"
   ]
  },
  {
   "cell_type": "code",
   "execution_count": 4,
   "metadata": {},
   "outputs": [],
   "source": [
    "all_data = [movie_links_data, movies_data, movie_rating_data, movie_tags_data]"
   ]
  },
  {
   "cell_type": "code",
   "execution_count": 8,
   "metadata": {},
   "outputs": [
    {
     "name": "stdout",
     "output_type": "stream",
     "text": [
      "   movieId  imdbId   tmdbId\n",
      "0        1  114709    862.0\n",
      "1        2  113497   8844.0\n",
      "2        3  113228  15602.0\n",
      "3        4  114885  31357.0\n",
      "4        5  113041  11862.0\n",
      "Movies Link----------------------------------------------------------------------------------------------------\n",
      "   userId  movieId  rating  timestamp\n",
      "0       1        1     4.0  964982703\n",
      "1       1        3     4.0  964981247\n",
      "2       1        6     4.0  964982224\n",
      "3       1       47     5.0  964983815\n",
      "4       1       50     5.0  964982931\n",
      "Movies Rating----------------------------------------------------------------------------------------------------\n",
      "   movieId                               title  \\\n",
      "0        1                    Toy Story (1995)   \n",
      "1        2                      Jumanji (1995)   \n",
      "2        3             Grumpier Old Men (1995)   \n",
      "3        4            Waiting to Exhale (1995)   \n",
      "4        5  Father of the Bride Part II (1995)   \n",
      "\n",
      "                                        genres  \n",
      "0  Adventure|Animation|Children|Comedy|Fantasy  \n",
      "1                   Adventure|Children|Fantasy  \n",
      "2                               Comedy|Romance  \n",
      "3                         Comedy|Drama|Romance  \n",
      "4                                       Comedy  \n",
      "Movies----------------------------------------------------------------------------------------------------\n",
      "   userId  movieId              tag   timestamp\n",
      "0       2    60756            funny  1445714994\n",
      "1       2    60756  Highly quotable  1445714996\n",
      "2       2    60756     will ferrell  1445714992\n",
      "3       2    89774     Boxing story  1445715207\n",
      "4       2    89774              MMA  1445715200\n",
      "Movies Tags----------------------------------------------------------------------------------------------------\n"
     ]
    }
   ],
   "source": [
    "print(movie_links_data.head())\n",
    "print(\"Movies Link\"+\"-\"*100)\n",
    "print(movie_rating_data.head())\n",
    "print(\"Movies Rating\"+\"-\"*100)\n",
    "print(movies_data.head())\n",
    "print(\"Movies\"+\"-\"*100)\n",
    "print(movie_tags_data.head())\n",
    "print(\"Movies Tags\"+\"-\"*100)"
   ]
  },
  {
   "cell_type": "markdown",
   "metadata": {},
   "source": [
    "# Data Analysis"
   ]
  },
  {
   "cell_type": "code",
   "execution_count": 12,
   "metadata": {},
   "outputs": [
    {
     "name": "stdout",
     "output_type": "stream",
     "text": [
      "--------------------------------------------------Shape of Movies Link Dataset--------------------------------------------------\n",
      "(9742, 3)\n",
      "--------------------------------------------------Shape of Movies Rating Dataset--------------------------------------------------\n",
      "(100836, 4)\n",
      "--------------------------------------------------Shape of Movies Dataset--------------------------------------------------\n",
      "(9742, 3)\n",
      "--------------------------------------------------Shape of Movies Tags Dataset--------------------------------------------------\n",
      "(3683, 4)\n"
     ]
    }
   ],
   "source": [
    "# Shapes\n",
    "print(\"-\"*50+\"Shape of Movies Link Dataset\"+\"-\"*50)\n",
    "print(movie_links_data.shape)\n",
    "print(\"-\"*50+\"Shape of Movies Rating Dataset\"+\"-\"*50)\n",
    "print(movie_rating_data.shape)\n",
    "print(\"-\"*50+\"Shape of Movies Dataset\"+\"-\"*50)\n",
    "print(movies_data.shape)\n",
    "print(\"-\"*50+\"Shape of Movies Tags Dataset\"+\"-\"*50)\n",
    "print(movie_tags_data.shape)\n"
   ]
  },
  {
   "cell_type": "code",
   "execution_count": 19,
   "metadata": {},
   "outputs": [
    {
     "name": "stdout",
     "output_type": "stream",
     "text": [
      "Uniques userId in ratings.csv --  610\n"
     ]
    }
   ],
   "source": [
    "# Uniques in ratings.csv\n",
    "print(\"Uniques userId in ratings.csv -- \", movie_rating_data['userId'].nunique())"
   ]
  },
  {
   "cell_type": "code",
   "execution_count": 21,
   "metadata": {},
   "outputs": [
    {
     "name": "stdout",
     "output_type": "stream",
     "text": [
      "   movieId                               title  \\\n",
      "0        1                    Toy Story (1995)   \n",
      "1        2                      Jumanji (1995)   \n",
      "2        3             Grumpier Old Men (1995)   \n",
      "3        4            Waiting to Exhale (1995)   \n",
      "4        5  Father of the Bride Part II (1995)   \n",
      "\n",
      "                                        genres  \n",
      "0  Adventure|Animation|Children|Comedy|Fantasy  \n",
      "1                   Adventure|Children|Fantasy  \n",
      "2                               Comedy|Romance  \n",
      "3                         Comedy|Drama|Romance  \n",
      "4                                       Comedy  \n"
     ]
    }
   ],
   "source": [
    "print(movies_data.head())"
   ]
  },
  {
   "cell_type": "code",
   "execution_count": 22,
   "metadata": {},
   "outputs": [
    {
     "name": "stdout",
     "output_type": "stream",
     "text": [
      "   userId  movieId  rating  timestamp\n",
      "0       1        1     4.0  964982703\n",
      "1       1        3     4.0  964981247\n",
      "2       1        6     4.0  964982224\n",
      "3       1       47     5.0  964983815\n",
      "4       1       50     5.0  964982931\n"
     ]
    }
   ],
   "source": [
    "print(movie_rating_data.head())"
   ]
  },
  {
   "cell_type": "markdown",
   "metadata": {},
   "source": [
    "### Movie has recieved maximum number of user ratings"
   ]
  },
  {
   "cell_type": "code",
   "execution_count": 28,
   "metadata": {},
   "outputs": [
    {
     "name": "stdout",
     "output_type": "stream",
     "text": [
      "--------------------------------------------------Merged DataSet--------------------------------------------------\n",
      "Index(['movieId', 'title', 'genres', 'userId', 'rating', 'timestamp'], dtype='object')\n"
     ]
    }
   ],
   "source": [
    "# Merging movies.csv and ratings.csv dataset\n",
    "merged_data = pd.merge(movies_data, movie_rating_data, on=\"movieId\", how='inner')\n",
    "print(\"-\"*50+\"Merged DataSet\"+\"-\"*50)\n",
    "print(merged_data.columns)"
   ]
  },
  {
   "cell_type": "code",
   "execution_count": 38,
   "metadata": {},
   "outputs": [],
   "source": [
    "check_movie = [\"Matrix\",\n",
    "    \"Pulp Fiction\",\n",
    "    \"Forrest Gump\",\n",
    "    \"Shawshank Redemption\",\n",
    "    ]\n",
    "max_number_rating = []"
   ]
  },
  {
   "cell_type": "code",
   "execution_count": 114,
   "metadata": {},
   "outputs": [
    {
     "name": "stdout",
     "output_type": "stream",
     "text": [
      "-------------------------------------------------- Matrix --------------------------------------------------\n",
      "453\n",
      "-------------------------------------------------- Pulp Fiction --------------------------------------------------\n",
      "307\n",
      "-------------------------------------------------- Forrest Gump --------------------------------------------------\n",
      "329\n",
      "-------------------------------------------------- Shawshank Redemption --------------------------------------------------\n",
      "317\n"
     ]
    }
   ],
   "source": [
    "for i in check_movie:\n",
    "    number_movie = merged_data['title'].apply(lambda x: i in x)\n",
    "    movie_rate_df = merged_data[number_movie==True]\n",
    "    movie_rate_df = movie_rate_df[movie_rate_df['rating']!=np.nan].shape[0]\n",
    "    print(\"-\"*50 , f\"{i}\" , \"-\"*50)\n",
    "    print(movie_rate_df)\n",
    "    max_number_rating.append(movie_rate_df)\n",
    "    "
   ]
  },
  {
   "cell_type": "code",
   "execution_count": 120,
   "metadata": {},
   "outputs": [
    {
     "name": "stdout",
     "output_type": "stream",
     "text": [
      "-------------------------------------------------- Maximum Number of Rated Movie --------------------------------------------------\n",
      "Matrix\n"
     ]
    }
   ],
   "source": [
    "max_number_index = max_number_rating.index(max(max_number_rating))\n",
    "print(\"-\"*50 , \"Maximum Number of Rated Movie\" , \"-\"*50)\n",
    "print(f\"{check_movie[max_number_index]}\")"
   ]
  }
 ],
 "metadata": {
  "kernelspec": {
   "display_name": "Python 3",
   "language": "python",
   "name": "python3"
  },
  "language_info": {
   "codemirror_mode": {
    "name": "ipython",
    "version": 3
   },
   "file_extension": ".py",
   "mimetype": "text/x-python",
   "name": "python",
   "nbconvert_exporter": "python",
   "pygments_lexer": "ipython3",
   "version": "3.10.4"
  }
 },
 "nbformat": 4,
 "nbformat_minor": 2
}
